{
  "nbformat": 4,
  "nbformat_minor": 0,
  "metadata": {
    "colab": {
      "provenance": [],
      "authorship_tag": "ABX9TyP+IDrDLqeKk4ZhHXGa7I0T",
      "include_colab_link": true
    },
    "kernelspec": {
      "name": "python3",
      "display_name": "Python 3"
    },
    "language_info": {
      "name": "python"
    }
  },
  "cells": [
    {
      "cell_type": "markdown",
      "metadata": {
        "id": "view-in-github",
        "colab_type": "text"
      },
      "source": [
        "<a href=\"https://colab.research.google.com/github/TakumiHS/keio-quant-macro-takumikumada/blob/main/project2.ipynb\" target=\"_parent\"><img src=\"https://colab.research.google.com/assets/colab-badge.svg\" alt=\"Open In Colab\"/></a>"
      ]
    },
    {
      "cell_type": "code",
      "execution_count": null,
      "metadata": {
        "colab": {
          "base_uri": "https://localhost:8080/"
        },
        "id": "tPlYSROweHLI",
        "outputId": "fe29f854-4f95-42bd-e191-f73de1d698a4"
      },
      "outputs": [
        {
          "output_type": "stream",
          "name": "stdout",
          "text": [
            "                    g        tg        cd     labsh         a  Growth Rate  \\\n",
            "countrycode                                                                  \n",
            "CAN          0.887700  2.224496 -1.336796  0.653810  0.346190     0.887700   \n",
            "DEU          0.661055  1.008208 -0.347152  0.629270  0.370730     0.661055   \n",
            "FRA          0.829236  1.515931 -0.686695  0.618806  0.381194     0.829236   \n",
            "GBR          1.015544  1.829163 -0.813619  0.587007  0.412993     1.015544   \n",
            "ITA         -0.037181  1.360500 -1.397681  0.515165  0.484835    -0.037181   \n",
            "JPN          0.710956  0.708473  0.002484  0.569399  0.430601     0.710956   \n",
            "USA          1.536985  1.764296 -0.227310  0.606740  0.393260     1.536985   \n",
            "\n",
            "             TFP Growth  Capital Deepening  TFP Share  Capital Share  \n",
            "countrycode                                                           \n",
            "CAN            2.224496          -1.336796   0.653810       0.346190  \n",
            "DEU            1.008208          -0.347152   0.629270       0.370730  \n",
            "FRA            1.515931          -0.686695   0.618806       0.381194  \n",
            "GBR            1.829163          -0.813619   0.587007       0.412993  \n",
            "ITA            1.360500          -1.397681   0.515165       0.484835  \n",
            "JPN            0.708473           0.002484   0.569399       0.430601  \n",
            "USA            1.764296          -0.227310   0.606740       0.393260  \n"
          ]
        }
      ],
      "source": [
        "import pandas as pd\n",
        "import numpy as np\n",
        "\n",
        "\n",
        "# Load data\n",
        "pwt1001 = pd.read_stata('https://dataverse.nl/api/access/datafile/354098')\n",
        "\n",
        "# Filter and select relevant columns\n",
        "data = pwt1001.loc[pwt1001['country'].isin([\"France\", \"Germany\", \"Canada\", \"Italy\", \"Japan\", \"United Kingdom\", \"United States\"])][['year', 'countrycode', 'rgdpna', 'rtfpna', 'rkna', 'emp', 'labsh']]\n",
        "data = data.loc[(data['year'] >= 1995) & (data['year'] <= 2019)].dropna()\n",
        "\n",
        "# Calculate additional columns\n",
        "data['y_pc'] = np.log(data['rgdpna'] / data['emp'])  # GDP per worker\n",
        "data['k_pc'] = np.log(data['rkna'] / data['emp'])  # Capital per worker\n",
        "data['k_pc'] = np.log(data['rtfpna'] / data['emp'])  # TFP Growth\n",
        "data['labsh'] #TFP share\n",
        "data['a'] = 1 - data['labsh']  # Capital share\n",
        "\n",
        "# Order by year\n",
        "data = data.sort_values('year')\n",
        "\n",
        "# Group by isocode\n",
        "grouped_data = data.groupby('countrycode')\n",
        "\n",
        "# Calculate growth rates and Solow residual\n",
        "data['g'] = (grouped_data['y_pc'].diff() * 100)  # Growth rate of GDP per capita\n",
        "\n",
        "# Calculate Capital deepening\n",
        "data['cd'] = (grouped_data['k_pc'].diff() * 100)  # Growth rate of capital per capita\n",
        "\n",
        "# Calculate TFP Growth\n",
        "data['tg'] = data['g'] - data['cd'] #TFP Growth\n",
        "\n",
        "# Remove missing values\n",
        "data = data.dropna()\n",
        "\n",
        "# Calculate summary statistics\n",
        "summary = data.groupby('countrycode').agg({'g': 'mean', 'tg': \"mean\", 'cd': 'mean', 'labsh': 'mean', 'a': 'mean'})\n",
        "\n",
        "# Calculate additional summary statistics\n",
        "summary['Growth Rate'] = summary['g']\n",
        "summary['TFP Growth'] = summary['tg']\n",
        "summary['Capital Deepening'] = summary['cd']\n",
        "summary['TFP Share'] = summary['labsh']\n",
        "summary['Capital Share'] = summary['a']\n",
        "\n",
        "# Print output\n",
        "print(summary)\n",
        "\n"
      ]
    },
    {
      "cell_type": "code",
      "source": [],
      "metadata": {
        "id": "gmgXpgIIGnB9"
      },
      "execution_count": null,
      "outputs": []
    }
  ]
}